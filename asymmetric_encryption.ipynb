{
 "cells": [
  {
   "cell_type": "code",
   "execution_count": 1,
   "metadata": {
    "id": "dKUjkCO7foKK"
   },
   "outputs": [],
   "source": [
    "\"\"\"\n",
    "Asymmetric Encryption using Neural Networks\n",
    "\n",
    "This script implements a neural network-based asymmetric encryption system with Alice, Bob, and Eve.\n",
    "- Alice encrypts the plaintext using a public key.\n",
    "- Bob decrypts the ciphertext using a private key.\n",
    "- Eve tries to recover the plaintext from the ciphertext (adversarial role).\n",
    "- KeyGen generates the public key from the private key.\n",
    "\n",
    "The system is trained to ensure Bob can decrypt accurately while Eve fails.\n",
    "\"\"\"\n",
    "\n",
    "import time\n",
    "import numpy as np\n",
    "import matplotlib.pyplot as plt\n",
    "import tensorflow as tf\n",
    "import keras\n",
    "from keras import layers, models, optimizers\n",
    "import keras.ops as ops  # Explicit import of keras.ops\n",
    "from tqdm import tqdm\n",
    "import os\n",
    "import warnings\n",
    "warnings.filterwarnings('ignore')\n"
   ]
  },
  {
   "cell_type": "code",
   "execution_count": 2,
   "metadata": {
    "colab": {
     "base_uri": "https://localhost:8080/"
    },
    "id": "ShH56p1wfoKN",
    "outputId": "071bbefd-07e8-4025-9c28-a9e9c57a7c76"
   },
   "outputs": [
    {
     "name": "stdout",
     "output_type": "stream",
     "text": [
      "TensorFlow version: 2.19.0\n",
      "NumPy version: 1.26.4\n",
      "Keras version: 3.9.2\n"
     ]
    }
   ],
   "source": [
    "# Verify library versions\n",
    "print(f\"TensorFlow version: {tf.__version__}\")\n",
    "print(f\"NumPy version: {np.__version__}\")\n",
    "print(f\"Keras version: {keras.__version__}\")"
   ]
  },
  {
   "cell_type": "markdown",
   "metadata": {
    "id": "XSHYDt-hfoKN"
   },
   "source": [
    "# Configuration"
   ]
  },
  {
   "cell_type": "code",
   "execution_count": 3,
   "metadata": {
    "id": "tLLbDPcOfoKP"
   },
   "outputs": [],
   "source": [
    "# Configuration\n",
    "class Config:\n",
    "    \"\"\"Configuration class for model parameters.\"\"\"\n",
    "    P_LEN = 32  # Length of plaintext\n",
    "    K_LEN = 32  # Length of key (public/private)\n",
    "    C_LEN = 32  # Length of ciphertext\n",
    "    EPOCHS = 20\n",
    "    LOSS_THRESHOLD = 0.1\n",
    "    BATCH_SIZE = 256 # Number of samples per training batch.\n",
    "    SAMPLES = 2 ** 16 # Number of samples\n",
    "    BATCHES = SAMPLES // BATCH_SIZE \n"
   ]
  },
  {
   "cell_type": "markdown",
   "metadata": {
    "id": "6hqZvZ7qgFqO"
   },
   "source": [
    "# Loss Function"
   ]
  },
  {
   "cell_type": "code",
   "execution_count": 4,
   "metadata": {
    "id": "jXRLCPc7foKQ"
   },
   "outputs": [],
   "source": [
    "\n",
    "# Custom Layer for L1 Distance\n",
    "class L1DistanceLayer(layers.Layer):\n",
    "    \"\"\"Custom Keras layer to compute the L1 distance between two tensors.\"\"\"\n",
    "    def __init__(self, name=\"l1_distance\"):\n",
    "        super(L1DistanceLayer, self).__init__(name=name)\n",
    "        self.ops = keras.ops  # Assign keras.ops to the layer instance\n",
    "\n",
    "    def call(self, a, b):\n",
    "        # Normalize tensors from [-1, 1] to [0, 1]\n",
    "        a = (a + 1) / 2\n",
    "        b = (b + 1) / 2\n",
    "        # Compute L1 distance using self.ops\n",
    "        diff = self.ops.abs(a - b)\n",
    "        sum_diff = self.ops.sum(diff, axis=-1)\n",
    "        return self.ops.mean(sum_diff)"
   ]
  },
  {
   "cell_type": "markdown",
   "metadata": {
    "id": "hoPeCD9ofoKQ"
   },
   "source": [
    "# Build Models"
   ]
  },
  {
   "cell_type": "code",
   "execution_count": 6,
   "metadata": {
    "id": "3A2_URkEfoKR"
   },
   "outputs": [],
   "source": [
    "# Model Definitions\n",
    "def build_key_gen(k_len: int) -> models.Model: # return type is Model from models library\n",
    "    \"\"\"Builds the KeyGen model to generate a public key from a private key.\"\"\"\n",
    "    pvk_input = layers.Input(shape=(k_len,), name=\"private_key\")\n",
    "    x = layers.Dense(units=64, activation=\"relu\", name=\"key_gen_dense\")(pvk_input)\n",
    "    x = layers.Reshape(target_shape=(64, 1), name=\"key_gen_reshape\")(x) \n",
    "    x = layers.Conv1D(filters=2, kernel_size=4, strides=1, padding=\"same\", activation=\"relu\", name=\"key_gen_conv1d_1\")(x)\n",
    "    x = layers.Conv1D(filters=16, kernel_size=2, strides=2, padding=\"same\", activation=\"relu\", name=\"key_gen_conv1d_2\")(x)\n",
    "    x = layers.Conv1D(filters=16, kernel_size=1, strides=1, padding=\"same\", activation=\"relu\", name=\"key_gen_conv1d_3\")(x)\n",
    "    x = layers.Conv1D(filters=1, kernel_size=1, strides=1, padding=\"same\", activation=\"tanh\", name=\"key_gen_conv1d_4\")(x)\n",
    "    key_gen_output = layers.Flatten(name=\"key_gen_flatten\")(x)\n",
    "    return models.Model(inputs=pvk_input, outputs=key_gen_output, name=\"key_gen\")\n",
    "\n",
    "def build_alice(p_len: int, k_len: int) -> models.Model:\n",
    "    \"\"\"Builds the Alice model to encrypt plaintext using a public key.\"\"\"\n",
    "    p_input = layers.Input(shape=(p_len,), name=\"plaintext\")\n",
    "    pbk_input = layers.Input(shape=(k_len,), name=\"public_key\")\n",
    "    x = layers.Concatenate(axis=1, name=\"alice_concatenate\")([p_input, pbk_input])  # Concatenate the P_len and k_len in one tensor (batch_size, P_LEN + K_LEN)\n",
    "    x = layers.Dense(units=64, activation=\"relu\", name=\"alice_dense\")(x)\n",
    "    x = layers.Reshape(target_shape=(64, 1), name=\"alice_reshape\")(x) # (batch_size, 64, 1)\n",
    "    x = layers.Conv1D(filters=2, kernel_size=4, strides=1, padding=\"same\", activation=\"relu\", name=\"alice_conv1d_1\")(x) # we save 64 values to train on p_len + k_len\n",
    "    x = layers.Conv1D(filters=16, kernel_size=2, strides=2, padding=\"same\", activation=\"relu\", name=\"alice_conv1d_2\")(x)\n",
    "    x = layers.Conv1D(filters=16, kernel_size=1, strides=1, padding=\"same\", activation=\"relu\", name=\"alice_conv1d_3\")(x)\n",
    "    x = layers.Conv1D(filters=1, kernel_size=1, strides=1, padding=\"same\", activation=\"tanh\", name=\"alice_conv1d_4\")(x)\n",
    "    alice_output = layers.Flatten(name=\"alice_flatten\")(x)\n",
    "    return models.Model(inputs=[p_input, pbk_input], outputs=alice_output, name=\"alice\")\n",
    "\n",
    "def build_bob(c_len: int, k_len: int) -> models.Model:\n",
    "    \"\"\"Builds the Bob model to decrypt ciphertext using a private key.\"\"\"\n",
    "    c_input = layers.Input(shape=(c_len,), name=\"ciphertext\")\n",
    "    pvk_input = layers.Input(shape=(k_len,), name=\"private_key\")\n",
    "    x = layers.Concatenate(axis=1, name=\"bob_concatenate\")([c_input, pvk_input])\n",
    "    x = layers.Dense(units=64, activation=\"relu\", name=\"bob_dense\")(x)\n",
    "    x = layers.Reshape(target_shape=(64, 1), name=\"bob_reshape\")(x)\n",
    "    x = layers.Conv1D(filters=2, kernel_size=4, strides=1, padding=\"same\", activation=\"relu\", name=\"bob_conv1d_1\")(x)\n",
    "    x = layers.Conv1D(filters=16, kernel_size=2, strides=2, padding=\"same\", activation=\"relu\", name=\"bob_conv1d_2\")(x)\n",
    "    x = layers.Conv1D(filters=16, kernel_size=1, strides=1, padding=\"same\", activation=\"relu\", name=\"bob_conv1d_3\")(x)\n",
    "    x = layers.Conv1D(filters=1, kernel_size=1, strides=1, padding=\"same\", activation=\"tanh\", name=\"bob_conv1d_4\")(x)\n",
    "    bob_output = layers.Flatten(name=\"bob_flatten\")(x)\n",
    "    return models.Model(inputs=[c_input, pvk_input], outputs=bob_output, name=\"bob\")\n",
    "\n",
    "def build_eve(c_len: int, k_len: int) -> models.Model:\n",
    "    \"\"\"Builds the Eve model to attempt plaintext recovery from ciphertext.\"\"\"\n",
    "    c_input = layers.Input(shape=(c_len,), name=\"ciphertext\")\n",
    "    pbk_input = layers.Input(shape=(k_len,), name=\"public_key\")\n",
    "    x = layers.Concatenate(axis=1, name=\"eve_concatenate\")([c_input, pbk_input])\n",
    "    x = layers.Dense(units=64, activation=\"relu\", name=\"eve_dense\")(x)\n",
    "    x = layers.Reshape(target_shape=(64, 1), name=\"eve_reshape\")(x)\n",
    "    x = layers.Conv1D(filters=2, kernel_size=4, strides=1, padding=\"same\", activation=\"relu\", name=\"eve_conv1d_1\")(x)\n",
    "    x = layers.Conv1D(filters=16, kernel_size=2, strides=2, padding=\"same\", activation=\"relu\", name=\"eve_conv1d_2\")(x)\n",
    "    x = layers.Conv1D(filters=16, kernel_size=1, strides=1, padding=\"same\", activation=\"relu\", name=\"eve_conv1d_3\")(x)\n",
    "    x = layers.Conv1D(filters=1, kernel_size=1, strides=1, padding=\"same\", activation=\"tanh\", name=\"eve_conv1d_4\")(x)\n",
    "    eve_output = layers.Flatten(name=\"eve_flatten\")(x)\n",
    "    return models.Model(inputs=[c_input, pbk_input], outputs=eve_output, name=\"eve\")"
   ]
  },
  {
   "cell_type": "code",
   "execution_count": 7,
   "metadata": {
    "colab": {
     "base_uri": "https://localhost:8080/",
     "height": 1000
    },
    "id": "9ePjBS9IfoKR",
    "outputId": "47c18de3-5451-4e88-edc9-194556cdfed8"
   },
   "outputs": [
    {
     "data": {
      "text/html": [
       "<pre style=\"white-space:pre;overflow-x:auto;line-height:normal;font-family:Menlo,'DejaVu Sans Mono',consolas,'Courier New',monospace\"><span style=\"font-weight: bold\">Model: \"key_gen\"</span>\n",
       "</pre>\n"
      ],
      "text/plain": [
       "\u001b[1mModel: \"key_gen\"\u001b[0m\n"
      ]
     },
     "metadata": {},
     "output_type": "display_data"
    },
    {
     "data": {
      "text/html": [
       "<pre style=\"white-space:pre;overflow-x:auto;line-height:normal;font-family:Menlo,'DejaVu Sans Mono',consolas,'Courier New',monospace\">┏━━━━━━━━━━━━━━━━━━━━━━━━━━━━━━━━━━━━━━┳━━━━━━━━━━━━━━━━━━━━━━━━━━━━━┳━━━━━━━━━━━━━━━━━┓\n",
       "┃<span style=\"font-weight: bold\"> Layer (type)                         </span>┃<span style=\"font-weight: bold\"> Output Shape                </span>┃<span style=\"font-weight: bold\">         Param # </span>┃\n",
       "┡━━━━━━━━━━━━━━━━━━━━━━━━━━━━━━━━━━━━━━╇━━━━━━━━━━━━━━━━━━━━━━━━━━━━━╇━━━━━━━━━━━━━━━━━┩\n",
       "│ private_key (<span style=\"color: #0087ff; text-decoration-color: #0087ff\">InputLayer</span>)             │ (<span style=\"color: #00d7ff; text-decoration-color: #00d7ff\">None</span>, <span style=\"color: #00af00; text-decoration-color: #00af00\">32</span>)                  │               <span style=\"color: #00af00; text-decoration-color: #00af00\">0</span> │\n",
       "├──────────────────────────────────────┼─────────────────────────────┼─────────────────┤\n",
       "│ key_gen_dense (<span style=\"color: #0087ff; text-decoration-color: #0087ff\">Dense</span>)                │ (<span style=\"color: #00d7ff; text-decoration-color: #00d7ff\">None</span>, <span style=\"color: #00af00; text-decoration-color: #00af00\">64</span>)                  │           <span style=\"color: #00af00; text-decoration-color: #00af00\">2,112</span> │\n",
       "├──────────────────────────────────────┼─────────────────────────────┼─────────────────┤\n",
       "│ key_gen_reshape (<span style=\"color: #0087ff; text-decoration-color: #0087ff\">Reshape</span>)            │ (<span style=\"color: #00d7ff; text-decoration-color: #00d7ff\">None</span>, <span style=\"color: #00af00; text-decoration-color: #00af00\">64</span>, <span style=\"color: #00af00; text-decoration-color: #00af00\">1</span>)               │               <span style=\"color: #00af00; text-decoration-color: #00af00\">0</span> │\n",
       "├──────────────────────────────────────┼─────────────────────────────┼─────────────────┤\n",
       "│ key_gen_conv1d_1 (<span style=\"color: #0087ff; text-decoration-color: #0087ff\">Conv1D</span>)            │ (<span style=\"color: #00d7ff; text-decoration-color: #00d7ff\">None</span>, <span style=\"color: #00af00; text-decoration-color: #00af00\">64</span>, <span style=\"color: #00af00; text-decoration-color: #00af00\">2</span>)               │              <span style=\"color: #00af00; text-decoration-color: #00af00\">10</span> │\n",
       "├──────────────────────────────────────┼─────────────────────────────┼─────────────────┤\n",
       "│ key_gen_conv1d_2 (<span style=\"color: #0087ff; text-decoration-color: #0087ff\">Conv1D</span>)            │ (<span style=\"color: #00d7ff; text-decoration-color: #00d7ff\">None</span>, <span style=\"color: #00af00; text-decoration-color: #00af00\">32</span>, <span style=\"color: #00af00; text-decoration-color: #00af00\">16</span>)              │              <span style=\"color: #00af00; text-decoration-color: #00af00\">80</span> │\n",
       "├──────────────────────────────────────┼─────────────────────────────┼─────────────────┤\n",
       "│ key_gen_conv1d_3 (<span style=\"color: #0087ff; text-decoration-color: #0087ff\">Conv1D</span>)            │ (<span style=\"color: #00d7ff; text-decoration-color: #00d7ff\">None</span>, <span style=\"color: #00af00; text-decoration-color: #00af00\">32</span>, <span style=\"color: #00af00; text-decoration-color: #00af00\">16</span>)              │             <span style=\"color: #00af00; text-decoration-color: #00af00\">272</span> │\n",
       "├──────────────────────────────────────┼─────────────────────────────┼─────────────────┤\n",
       "│ key_gen_conv1d_4 (<span style=\"color: #0087ff; text-decoration-color: #0087ff\">Conv1D</span>)            │ (<span style=\"color: #00d7ff; text-decoration-color: #00d7ff\">None</span>, <span style=\"color: #00af00; text-decoration-color: #00af00\">32</span>, <span style=\"color: #00af00; text-decoration-color: #00af00\">1</span>)               │              <span style=\"color: #00af00; text-decoration-color: #00af00\">17</span> │\n",
       "├──────────────────────────────────────┼─────────────────────────────┼─────────────────┤\n",
       "│ key_gen_flatten (<span style=\"color: #0087ff; text-decoration-color: #0087ff\">Flatten</span>)            │ (<span style=\"color: #00d7ff; text-decoration-color: #00d7ff\">None</span>, <span style=\"color: #00af00; text-decoration-color: #00af00\">32</span>)                  │               <span style=\"color: #00af00; text-decoration-color: #00af00\">0</span> │\n",
       "└──────────────────────────────────────┴─────────────────────────────┴─────────────────┘\n",
       "</pre>\n"
      ],
      "text/plain": [
       "┏━━━━━━━━━━━━━━━━━━━━━━━━━━━━━━━━━━━━━━┳━━━━━━━━━━━━━━━━━━━━━━━━━━━━━┳━━━━━━━━━━━━━━━━━┓\n",
       "┃\u001b[1m \u001b[0m\u001b[1mLayer (type)                        \u001b[0m\u001b[1m \u001b[0m┃\u001b[1m \u001b[0m\u001b[1mOutput Shape               \u001b[0m\u001b[1m \u001b[0m┃\u001b[1m \u001b[0m\u001b[1m        Param #\u001b[0m\u001b[1m \u001b[0m┃\n",
       "┡━━━━━━━━━━━━━━━━━━━━━━━━━━━━━━━━━━━━━━╇━━━━━━━━━━━━━━━━━━━━━━━━━━━━━╇━━━━━━━━━━━━━━━━━┩\n",
       "│ private_key (\u001b[38;5;33mInputLayer\u001b[0m)             │ (\u001b[38;5;45mNone\u001b[0m, \u001b[38;5;34m32\u001b[0m)                  │               \u001b[38;5;34m0\u001b[0m │\n",
       "├──────────────────────────────────────┼─────────────────────────────┼─────────────────┤\n",
       "│ key_gen_dense (\u001b[38;5;33mDense\u001b[0m)                │ (\u001b[38;5;45mNone\u001b[0m, \u001b[38;5;34m64\u001b[0m)                  │           \u001b[38;5;34m2,112\u001b[0m │\n",
       "├──────────────────────────────────────┼─────────────────────────────┼─────────────────┤\n",
       "│ key_gen_reshape (\u001b[38;5;33mReshape\u001b[0m)            │ (\u001b[38;5;45mNone\u001b[0m, \u001b[38;5;34m64\u001b[0m, \u001b[38;5;34m1\u001b[0m)               │               \u001b[38;5;34m0\u001b[0m │\n",
       "├──────────────────────────────────────┼─────────────────────────────┼─────────────────┤\n",
       "│ key_gen_conv1d_1 (\u001b[38;5;33mConv1D\u001b[0m)            │ (\u001b[38;5;45mNone\u001b[0m, \u001b[38;5;34m64\u001b[0m, \u001b[38;5;34m2\u001b[0m)               │              \u001b[38;5;34m10\u001b[0m │\n",
       "├──────────────────────────────────────┼─────────────────────────────┼─────────────────┤\n",
       "│ key_gen_conv1d_2 (\u001b[38;5;33mConv1D\u001b[0m)            │ (\u001b[38;5;45mNone\u001b[0m, \u001b[38;5;34m32\u001b[0m, \u001b[38;5;34m16\u001b[0m)              │              \u001b[38;5;34m80\u001b[0m │\n",
       "├──────────────────────────────────────┼─────────────────────────────┼─────────────────┤\n",
       "│ key_gen_conv1d_3 (\u001b[38;5;33mConv1D\u001b[0m)            │ (\u001b[38;5;45mNone\u001b[0m, \u001b[38;5;34m32\u001b[0m, \u001b[38;5;34m16\u001b[0m)              │             \u001b[38;5;34m272\u001b[0m │\n",
       "├──────────────────────────────────────┼─────────────────────────────┼─────────────────┤\n",
       "│ key_gen_conv1d_4 (\u001b[38;5;33mConv1D\u001b[0m)            │ (\u001b[38;5;45mNone\u001b[0m, \u001b[38;5;34m32\u001b[0m, \u001b[38;5;34m1\u001b[0m)               │              \u001b[38;5;34m17\u001b[0m │\n",
       "├──────────────────────────────────────┼─────────────────────────────┼─────────────────┤\n",
       "│ key_gen_flatten (\u001b[38;5;33mFlatten\u001b[0m)            │ (\u001b[38;5;45mNone\u001b[0m, \u001b[38;5;34m32\u001b[0m)                  │               \u001b[38;5;34m0\u001b[0m │\n",
       "└──────────────────────────────────────┴─────────────────────────────┴─────────────────┘\n"
      ]
     },
     "metadata": {},
     "output_type": "display_data"
    },
    {
     "data": {
      "text/html": [
       "<pre style=\"white-space:pre;overflow-x:auto;line-height:normal;font-family:Menlo,'DejaVu Sans Mono',consolas,'Courier New',monospace\"><span style=\"font-weight: bold\"> Total params: </span><span style=\"color: #00af00; text-decoration-color: #00af00\">2,491</span> (9.73 KB)\n",
       "</pre>\n"
      ],
      "text/plain": [
       "\u001b[1m Total params: \u001b[0m\u001b[38;5;34m2,491\u001b[0m (9.73 KB)\n"
      ]
     },
     "metadata": {},
     "output_type": "display_data"
    },
    {
     "data": {
      "text/html": [
       "<pre style=\"white-space:pre;overflow-x:auto;line-height:normal;font-family:Menlo,'DejaVu Sans Mono',consolas,'Courier New',monospace\"><span style=\"font-weight: bold\"> Trainable params: </span><span style=\"color: #00af00; text-decoration-color: #00af00\">2,491</span> (9.73 KB)\n",
       "</pre>\n"
      ],
      "text/plain": [
       "\u001b[1m Trainable params: \u001b[0m\u001b[38;5;34m2,491\u001b[0m (9.73 KB)\n"
      ]
     },
     "metadata": {},
     "output_type": "display_data"
    },
    {
     "data": {
      "text/html": [
       "<pre style=\"white-space:pre;overflow-x:auto;line-height:normal;font-family:Menlo,'DejaVu Sans Mono',consolas,'Courier New',monospace\"><span style=\"font-weight: bold\"> Non-trainable params: </span><span style=\"color: #00af00; text-decoration-color: #00af00\">0</span> (0.00 B)\n",
       "</pre>\n"
      ],
      "text/plain": [
       "\u001b[1m Non-trainable params: \u001b[0m\u001b[38;5;34m0\u001b[0m (0.00 B)\n"
      ]
     },
     "metadata": {},
     "output_type": "display_data"
    },
    {
     "name": "stdout",
     "output_type": "stream",
     "text": [
      "Key Generation: /nNone\n"
     ]
    },
    {
     "data": {
      "text/html": [
       "<pre style=\"white-space:pre;overflow-x:auto;line-height:normal;font-family:Menlo,'DejaVu Sans Mono',consolas,'Courier New',monospace\"><span style=\"font-weight: bold\">Model: \"alice\"</span>\n",
       "</pre>\n"
      ],
      "text/plain": [
       "\u001b[1mModel: \"alice\"\u001b[0m\n"
      ]
     },
     "metadata": {},
     "output_type": "display_data"
    },
    {
     "data": {
      "text/html": [
       "<pre style=\"white-space:pre;overflow-x:auto;line-height:normal;font-family:Menlo,'DejaVu Sans Mono',consolas,'Courier New',monospace\">┏━━━━━━━━━━━━━━━━━━━━━━━━━━━━━━━┳━━━━━━━━━━━━━━━━━━━━━━━━━━━┳━━━━━━━━━━━━━━━━━┳━━━━━━━━━━━━━━━━━━━━━━━━━━━━┓\n",
       "┃<span style=\"font-weight: bold\"> Layer (type)                  </span>┃<span style=\"font-weight: bold\"> Output Shape              </span>┃<span style=\"font-weight: bold\">         Param # </span>┃<span style=\"font-weight: bold\"> Connected to               </span>┃\n",
       "┡━━━━━━━━━━━━━━━━━━━━━━━━━━━━━━━╇━━━━━━━━━━━━━━━━━━━━━━━━━━━╇━━━━━━━━━━━━━━━━━╇━━━━━━━━━━━━━━━━━━━━━━━━━━━━┩\n",
       "│ plaintext (<span style=\"color: #0087ff; text-decoration-color: #0087ff\">InputLayer</span>)        │ (<span style=\"color: #00d7ff; text-decoration-color: #00d7ff\">None</span>, <span style=\"color: #00af00; text-decoration-color: #00af00\">32</span>)                │               <span style=\"color: #00af00; text-decoration-color: #00af00\">0</span> │ -                          │\n",
       "├───────────────────────────────┼───────────────────────────┼─────────────────┼────────────────────────────┤\n",
       "│ public_key (<span style=\"color: #0087ff; text-decoration-color: #0087ff\">InputLayer</span>)       │ (<span style=\"color: #00d7ff; text-decoration-color: #00d7ff\">None</span>, <span style=\"color: #00af00; text-decoration-color: #00af00\">32</span>)                │               <span style=\"color: #00af00; text-decoration-color: #00af00\">0</span> │ -                          │\n",
       "├───────────────────────────────┼───────────────────────────┼─────────────────┼────────────────────────────┤\n",
       "│ alice_concatenate             │ (<span style=\"color: #00d7ff; text-decoration-color: #00d7ff\">None</span>, <span style=\"color: #00af00; text-decoration-color: #00af00\">64</span>)                │               <span style=\"color: #00af00; text-decoration-color: #00af00\">0</span> │ plaintext[<span style=\"color: #00af00; text-decoration-color: #00af00\">0</span>][<span style=\"color: #00af00; text-decoration-color: #00af00\">0</span>],           │\n",
       "│ (<span style=\"color: #0087ff; text-decoration-color: #0087ff\">Concatenate</span>)                 │                           │                 │ public_key[<span style=\"color: #00af00; text-decoration-color: #00af00\">0</span>][<span style=\"color: #00af00; text-decoration-color: #00af00\">0</span>]           │\n",
       "├───────────────────────────────┼───────────────────────────┼─────────────────┼────────────────────────────┤\n",
       "│ alice_dense (<span style=\"color: #0087ff; text-decoration-color: #0087ff\">Dense</span>)           │ (<span style=\"color: #00d7ff; text-decoration-color: #00d7ff\">None</span>, <span style=\"color: #00af00; text-decoration-color: #00af00\">64</span>)                │           <span style=\"color: #00af00; text-decoration-color: #00af00\">4,160</span> │ alice_concatenate[<span style=\"color: #00af00; text-decoration-color: #00af00\">0</span>][<span style=\"color: #00af00; text-decoration-color: #00af00\">0</span>]    │\n",
       "├───────────────────────────────┼───────────────────────────┼─────────────────┼────────────────────────────┤\n",
       "│ alice_reshape (<span style=\"color: #0087ff; text-decoration-color: #0087ff\">Reshape</span>)       │ (<span style=\"color: #00d7ff; text-decoration-color: #00d7ff\">None</span>, <span style=\"color: #00af00; text-decoration-color: #00af00\">64</span>, <span style=\"color: #00af00; text-decoration-color: #00af00\">1</span>)             │               <span style=\"color: #00af00; text-decoration-color: #00af00\">0</span> │ alice_dense[<span style=\"color: #00af00; text-decoration-color: #00af00\">0</span>][<span style=\"color: #00af00; text-decoration-color: #00af00\">0</span>]          │\n",
       "├───────────────────────────────┼───────────────────────────┼─────────────────┼────────────────────────────┤\n",
       "│ alice_conv1d_1 (<span style=\"color: #0087ff; text-decoration-color: #0087ff\">Conv1D</span>)       │ (<span style=\"color: #00d7ff; text-decoration-color: #00d7ff\">None</span>, <span style=\"color: #00af00; text-decoration-color: #00af00\">64</span>, <span style=\"color: #00af00; text-decoration-color: #00af00\">2</span>)             │              <span style=\"color: #00af00; text-decoration-color: #00af00\">10</span> │ alice_reshape[<span style=\"color: #00af00; text-decoration-color: #00af00\">0</span>][<span style=\"color: #00af00; text-decoration-color: #00af00\">0</span>]        │\n",
       "├───────────────────────────────┼───────────────────────────┼─────────────────┼────────────────────────────┤\n",
       "│ alice_conv1d_2 (<span style=\"color: #0087ff; text-decoration-color: #0087ff\">Conv1D</span>)       │ (<span style=\"color: #00d7ff; text-decoration-color: #00d7ff\">None</span>, <span style=\"color: #00af00; text-decoration-color: #00af00\">32</span>, <span style=\"color: #00af00; text-decoration-color: #00af00\">16</span>)            │              <span style=\"color: #00af00; text-decoration-color: #00af00\">80</span> │ alice_conv1d_1[<span style=\"color: #00af00; text-decoration-color: #00af00\">0</span>][<span style=\"color: #00af00; text-decoration-color: #00af00\">0</span>]       │\n",
       "├───────────────────────────────┼───────────────────────────┼─────────────────┼────────────────────────────┤\n",
       "│ alice_conv1d_3 (<span style=\"color: #0087ff; text-decoration-color: #0087ff\">Conv1D</span>)       │ (<span style=\"color: #00d7ff; text-decoration-color: #00d7ff\">None</span>, <span style=\"color: #00af00; text-decoration-color: #00af00\">32</span>, <span style=\"color: #00af00; text-decoration-color: #00af00\">16</span>)            │             <span style=\"color: #00af00; text-decoration-color: #00af00\">272</span> │ alice_conv1d_2[<span style=\"color: #00af00; text-decoration-color: #00af00\">0</span>][<span style=\"color: #00af00; text-decoration-color: #00af00\">0</span>]       │\n",
       "├───────────────────────────────┼───────────────────────────┼─────────────────┼────────────────────────────┤\n",
       "│ alice_conv1d_4 (<span style=\"color: #0087ff; text-decoration-color: #0087ff\">Conv1D</span>)       │ (<span style=\"color: #00d7ff; text-decoration-color: #00d7ff\">None</span>, <span style=\"color: #00af00; text-decoration-color: #00af00\">32</span>, <span style=\"color: #00af00; text-decoration-color: #00af00\">1</span>)             │              <span style=\"color: #00af00; text-decoration-color: #00af00\">17</span> │ alice_conv1d_3[<span style=\"color: #00af00; text-decoration-color: #00af00\">0</span>][<span style=\"color: #00af00; text-decoration-color: #00af00\">0</span>]       │\n",
       "├───────────────────────────────┼───────────────────────────┼─────────────────┼────────────────────────────┤\n",
       "│ alice_flatten (<span style=\"color: #0087ff; text-decoration-color: #0087ff\">Flatten</span>)       │ (<span style=\"color: #00d7ff; text-decoration-color: #00d7ff\">None</span>, <span style=\"color: #00af00; text-decoration-color: #00af00\">32</span>)                │               <span style=\"color: #00af00; text-decoration-color: #00af00\">0</span> │ alice_conv1d_4[<span style=\"color: #00af00; text-decoration-color: #00af00\">0</span>][<span style=\"color: #00af00; text-decoration-color: #00af00\">0</span>]       │\n",
       "└───────────────────────────────┴───────────────────────────┴─────────────────┴────────────────────────────┘\n",
       "</pre>\n"
      ],
      "text/plain": [
       "┏━━━━━━━━━━━━━━━━━━━━━━━━━━━━━━━┳━━━━━━━━━━━━━━━━━━━━━━━━━━━┳━━━━━━━━━━━━━━━━━┳━━━━━━━━━━━━━━━━━━━━━━━━━━━━┓\n",
       "┃\u001b[1m \u001b[0m\u001b[1mLayer (type)                 \u001b[0m\u001b[1m \u001b[0m┃\u001b[1m \u001b[0m\u001b[1mOutput Shape             \u001b[0m\u001b[1m \u001b[0m┃\u001b[1m \u001b[0m\u001b[1m        Param #\u001b[0m\u001b[1m \u001b[0m┃\u001b[1m \u001b[0m\u001b[1mConnected to              \u001b[0m\u001b[1m \u001b[0m┃\n",
       "┡━━━━━━━━━━━━━━━━━━━━━━━━━━━━━━━╇━━━━━━━━━━━━━━━━━━━━━━━━━━━╇━━━━━━━━━━━━━━━━━╇━━━━━━━━━━━━━━━━━━━━━━━━━━━━┩\n",
       "│ plaintext (\u001b[38;5;33mInputLayer\u001b[0m)        │ (\u001b[38;5;45mNone\u001b[0m, \u001b[38;5;34m32\u001b[0m)                │               \u001b[38;5;34m0\u001b[0m │ -                          │\n",
       "├───────────────────────────────┼───────────────────────────┼─────────────────┼────────────────────────────┤\n",
       "│ public_key (\u001b[38;5;33mInputLayer\u001b[0m)       │ (\u001b[38;5;45mNone\u001b[0m, \u001b[38;5;34m32\u001b[0m)                │               \u001b[38;5;34m0\u001b[0m │ -                          │\n",
       "├───────────────────────────────┼───────────────────────────┼─────────────────┼────────────────────────────┤\n",
       "│ alice_concatenate             │ (\u001b[38;5;45mNone\u001b[0m, \u001b[38;5;34m64\u001b[0m)                │               \u001b[38;5;34m0\u001b[0m │ plaintext[\u001b[38;5;34m0\u001b[0m][\u001b[38;5;34m0\u001b[0m],           │\n",
       "│ (\u001b[38;5;33mConcatenate\u001b[0m)                 │                           │                 │ public_key[\u001b[38;5;34m0\u001b[0m][\u001b[38;5;34m0\u001b[0m]           │\n",
       "├───────────────────────────────┼───────────────────────────┼─────────────────┼────────────────────────────┤\n",
       "│ alice_dense (\u001b[38;5;33mDense\u001b[0m)           │ (\u001b[38;5;45mNone\u001b[0m, \u001b[38;5;34m64\u001b[0m)                │           \u001b[38;5;34m4,160\u001b[0m │ alice_concatenate[\u001b[38;5;34m0\u001b[0m][\u001b[38;5;34m0\u001b[0m]    │\n",
       "├───────────────────────────────┼───────────────────────────┼─────────────────┼────────────────────────────┤\n",
       "│ alice_reshape (\u001b[38;5;33mReshape\u001b[0m)       │ (\u001b[38;5;45mNone\u001b[0m, \u001b[38;5;34m64\u001b[0m, \u001b[38;5;34m1\u001b[0m)             │               \u001b[38;5;34m0\u001b[0m │ alice_dense[\u001b[38;5;34m0\u001b[0m][\u001b[38;5;34m0\u001b[0m]          │\n",
       "├───────────────────────────────┼───────────────────────────┼─────────────────┼────────────────────────────┤\n",
       "│ alice_conv1d_1 (\u001b[38;5;33mConv1D\u001b[0m)       │ (\u001b[38;5;45mNone\u001b[0m, \u001b[38;5;34m64\u001b[0m, \u001b[38;5;34m2\u001b[0m)             │              \u001b[38;5;34m10\u001b[0m │ alice_reshape[\u001b[38;5;34m0\u001b[0m][\u001b[38;5;34m0\u001b[0m]        │\n",
       "├───────────────────────────────┼───────────────────────────┼─────────────────┼────────────────────────────┤\n",
       "│ alice_conv1d_2 (\u001b[38;5;33mConv1D\u001b[0m)       │ (\u001b[38;5;45mNone\u001b[0m, \u001b[38;5;34m32\u001b[0m, \u001b[38;5;34m16\u001b[0m)            │              \u001b[38;5;34m80\u001b[0m │ alice_conv1d_1[\u001b[38;5;34m0\u001b[0m][\u001b[38;5;34m0\u001b[0m]       │\n",
       "├───────────────────────────────┼───────────────────────────┼─────────────────┼────────────────────────────┤\n",
       "│ alice_conv1d_3 (\u001b[38;5;33mConv1D\u001b[0m)       │ (\u001b[38;5;45mNone\u001b[0m, \u001b[38;5;34m32\u001b[0m, \u001b[38;5;34m16\u001b[0m)            │             \u001b[38;5;34m272\u001b[0m │ alice_conv1d_2[\u001b[38;5;34m0\u001b[0m][\u001b[38;5;34m0\u001b[0m]       │\n",
       "├───────────────────────────────┼───────────────────────────┼─────────────────┼────────────────────────────┤\n",
       "│ alice_conv1d_4 (\u001b[38;5;33mConv1D\u001b[0m)       │ (\u001b[38;5;45mNone\u001b[0m, \u001b[38;5;34m32\u001b[0m, \u001b[38;5;34m1\u001b[0m)             │              \u001b[38;5;34m17\u001b[0m │ alice_conv1d_3[\u001b[38;5;34m0\u001b[0m][\u001b[38;5;34m0\u001b[0m]       │\n",
       "├───────────────────────────────┼───────────────────────────┼─────────────────┼────────────────────────────┤\n",
       "│ alice_flatten (\u001b[38;5;33mFlatten\u001b[0m)       │ (\u001b[38;5;45mNone\u001b[0m, \u001b[38;5;34m32\u001b[0m)                │               \u001b[38;5;34m0\u001b[0m │ alice_conv1d_4[\u001b[38;5;34m0\u001b[0m][\u001b[38;5;34m0\u001b[0m]       │\n",
       "└───────────────────────────────┴───────────────────────────┴─────────────────┴────────────────────────────┘\n"
      ]
     },
     "metadata": {},
     "output_type": "display_data"
    },
    {
     "data": {
      "text/html": [
       "<pre style=\"white-space:pre;overflow-x:auto;line-height:normal;font-family:Menlo,'DejaVu Sans Mono',consolas,'Courier New',monospace\"><span style=\"font-weight: bold\"> Total params: </span><span style=\"color: #00af00; text-decoration-color: #00af00\">4,539</span> (17.73 KB)\n",
       "</pre>\n"
      ],
      "text/plain": [
       "\u001b[1m Total params: \u001b[0m\u001b[38;5;34m4,539\u001b[0m (17.73 KB)\n"
      ]
     },
     "metadata": {},
     "output_type": "display_data"
    },
    {
     "data": {
      "text/html": [
       "<pre style=\"white-space:pre;overflow-x:auto;line-height:normal;font-family:Menlo,'DejaVu Sans Mono',consolas,'Courier New',monospace\"><span style=\"font-weight: bold\"> Trainable params: </span><span style=\"color: #00af00; text-decoration-color: #00af00\">4,539</span> (17.73 KB)\n",
       "</pre>\n"
      ],
      "text/plain": [
       "\u001b[1m Trainable params: \u001b[0m\u001b[38;5;34m4,539\u001b[0m (17.73 KB)\n"
      ]
     },
     "metadata": {},
     "output_type": "display_data"
    },
    {
     "data": {
      "text/html": [
       "<pre style=\"white-space:pre;overflow-x:auto;line-height:normal;font-family:Menlo,'DejaVu Sans Mono',consolas,'Courier New',monospace\"><span style=\"font-weight: bold\"> Non-trainable params: </span><span style=\"color: #00af00; text-decoration-color: #00af00\">0</span> (0.00 B)\n",
       "</pre>\n"
      ],
      "text/plain": [
       "\u001b[1m Non-trainable params: \u001b[0m\u001b[38;5;34m0\u001b[0m (0.00 B)\n"
      ]
     },
     "metadata": {},
     "output_type": "display_data"
    },
    {
     "name": "stdout",
     "output_type": "stream",
     "text": [
      "Alice Model: /nNone\n"
     ]
    },
    {
     "data": {
      "text/html": [
       "<pre style=\"white-space:pre;overflow-x:auto;line-height:normal;font-family:Menlo,'DejaVu Sans Mono',consolas,'Courier New',monospace\"><span style=\"font-weight: bold\">Model: \"bob\"</span>\n",
       "</pre>\n"
      ],
      "text/plain": [
       "\u001b[1mModel: \"bob\"\u001b[0m\n"
      ]
     },
     "metadata": {},
     "output_type": "display_data"
    },
    {
     "data": {
      "text/html": [
       "<pre style=\"white-space:pre;overflow-x:auto;line-height:normal;font-family:Menlo,'DejaVu Sans Mono',consolas,'Courier New',monospace\">┏━━━━━━━━━━━━━━━━━━━━━━━━━━━━━━━┳━━━━━━━━━━━━━━━━━━━━━━━━━━━┳━━━━━━━━━━━━━━━━━┳━━━━━━━━━━━━━━━━━━━━━━━━━━━━┓\n",
       "┃<span style=\"font-weight: bold\"> Layer (type)                  </span>┃<span style=\"font-weight: bold\"> Output Shape              </span>┃<span style=\"font-weight: bold\">         Param # </span>┃<span style=\"font-weight: bold\"> Connected to               </span>┃\n",
       "┡━━━━━━━━━━━━━━━━━━━━━━━━━━━━━━━╇━━━━━━━━━━━━━━━━━━━━━━━━━━━╇━━━━━━━━━━━━━━━━━╇━━━━━━━━━━━━━━━━━━━━━━━━━━━━┩\n",
       "│ ciphertext (<span style=\"color: #0087ff; text-decoration-color: #0087ff\">InputLayer</span>)       │ (<span style=\"color: #00d7ff; text-decoration-color: #00d7ff\">None</span>, <span style=\"color: #00af00; text-decoration-color: #00af00\">32</span>)                │               <span style=\"color: #00af00; text-decoration-color: #00af00\">0</span> │ -                          │\n",
       "├───────────────────────────────┼───────────────────────────┼─────────────────┼────────────────────────────┤\n",
       "│ private_key (<span style=\"color: #0087ff; text-decoration-color: #0087ff\">InputLayer</span>)      │ (<span style=\"color: #00d7ff; text-decoration-color: #00d7ff\">None</span>, <span style=\"color: #00af00; text-decoration-color: #00af00\">32</span>)                │               <span style=\"color: #00af00; text-decoration-color: #00af00\">0</span> │ -                          │\n",
       "├───────────────────────────────┼───────────────────────────┼─────────────────┼────────────────────────────┤\n",
       "│ bob_concatenate (<span style=\"color: #0087ff; text-decoration-color: #0087ff\">Concatenate</span>) │ (<span style=\"color: #00d7ff; text-decoration-color: #00d7ff\">None</span>, <span style=\"color: #00af00; text-decoration-color: #00af00\">64</span>)                │               <span style=\"color: #00af00; text-decoration-color: #00af00\">0</span> │ ciphertext[<span style=\"color: #00af00; text-decoration-color: #00af00\">0</span>][<span style=\"color: #00af00; text-decoration-color: #00af00\">0</span>],          │\n",
       "│                               │                           │                 │ private_key[<span style=\"color: #00af00; text-decoration-color: #00af00\">0</span>][<span style=\"color: #00af00; text-decoration-color: #00af00\">0</span>]          │\n",
       "├───────────────────────────────┼───────────────────────────┼─────────────────┼────────────────────────────┤\n",
       "│ bob_dense (<span style=\"color: #0087ff; text-decoration-color: #0087ff\">Dense</span>)             │ (<span style=\"color: #00d7ff; text-decoration-color: #00d7ff\">None</span>, <span style=\"color: #00af00; text-decoration-color: #00af00\">64</span>)                │           <span style=\"color: #00af00; text-decoration-color: #00af00\">4,160</span> │ bob_concatenate[<span style=\"color: #00af00; text-decoration-color: #00af00\">0</span>][<span style=\"color: #00af00; text-decoration-color: #00af00\">0</span>]      │\n",
       "├───────────────────────────────┼───────────────────────────┼─────────────────┼────────────────────────────┤\n",
       "│ bob_reshape (<span style=\"color: #0087ff; text-decoration-color: #0087ff\">Reshape</span>)         │ (<span style=\"color: #00d7ff; text-decoration-color: #00d7ff\">None</span>, <span style=\"color: #00af00; text-decoration-color: #00af00\">64</span>, <span style=\"color: #00af00; text-decoration-color: #00af00\">1</span>)             │               <span style=\"color: #00af00; text-decoration-color: #00af00\">0</span> │ bob_dense[<span style=\"color: #00af00; text-decoration-color: #00af00\">0</span>][<span style=\"color: #00af00; text-decoration-color: #00af00\">0</span>]            │\n",
       "├───────────────────────────────┼───────────────────────────┼─────────────────┼────────────────────────────┤\n",
       "│ bob_conv1d_1 (<span style=\"color: #0087ff; text-decoration-color: #0087ff\">Conv1D</span>)         │ (<span style=\"color: #00d7ff; text-decoration-color: #00d7ff\">None</span>, <span style=\"color: #00af00; text-decoration-color: #00af00\">64</span>, <span style=\"color: #00af00; text-decoration-color: #00af00\">2</span>)             │              <span style=\"color: #00af00; text-decoration-color: #00af00\">10</span> │ bob_reshape[<span style=\"color: #00af00; text-decoration-color: #00af00\">0</span>][<span style=\"color: #00af00; text-decoration-color: #00af00\">0</span>]          │\n",
       "├───────────────────────────────┼───────────────────────────┼─────────────────┼────────────────────────────┤\n",
       "│ bob_conv1d_2 (<span style=\"color: #0087ff; text-decoration-color: #0087ff\">Conv1D</span>)         │ (<span style=\"color: #00d7ff; text-decoration-color: #00d7ff\">None</span>, <span style=\"color: #00af00; text-decoration-color: #00af00\">32</span>, <span style=\"color: #00af00; text-decoration-color: #00af00\">16</span>)            │              <span style=\"color: #00af00; text-decoration-color: #00af00\">80</span> │ bob_conv1d_1[<span style=\"color: #00af00; text-decoration-color: #00af00\">0</span>][<span style=\"color: #00af00; text-decoration-color: #00af00\">0</span>]         │\n",
       "├───────────────────────────────┼───────────────────────────┼─────────────────┼────────────────────────────┤\n",
       "│ bob_conv1d_3 (<span style=\"color: #0087ff; text-decoration-color: #0087ff\">Conv1D</span>)         │ (<span style=\"color: #00d7ff; text-decoration-color: #00d7ff\">None</span>, <span style=\"color: #00af00; text-decoration-color: #00af00\">32</span>, <span style=\"color: #00af00; text-decoration-color: #00af00\">16</span>)            │             <span style=\"color: #00af00; text-decoration-color: #00af00\">272</span> │ bob_conv1d_2[<span style=\"color: #00af00; text-decoration-color: #00af00\">0</span>][<span style=\"color: #00af00; text-decoration-color: #00af00\">0</span>]         │\n",
       "├───────────────────────────────┼───────────────────────────┼─────────────────┼────────────────────────────┤\n",
       "│ bob_conv1d_4 (<span style=\"color: #0087ff; text-decoration-color: #0087ff\">Conv1D</span>)         │ (<span style=\"color: #00d7ff; text-decoration-color: #00d7ff\">None</span>, <span style=\"color: #00af00; text-decoration-color: #00af00\">32</span>, <span style=\"color: #00af00; text-decoration-color: #00af00\">1</span>)             │              <span style=\"color: #00af00; text-decoration-color: #00af00\">17</span> │ bob_conv1d_3[<span style=\"color: #00af00; text-decoration-color: #00af00\">0</span>][<span style=\"color: #00af00; text-decoration-color: #00af00\">0</span>]         │\n",
       "├───────────────────────────────┼───────────────────────────┼─────────────────┼────────────────────────────┤\n",
       "│ bob_flatten (<span style=\"color: #0087ff; text-decoration-color: #0087ff\">Flatten</span>)         │ (<span style=\"color: #00d7ff; text-decoration-color: #00d7ff\">None</span>, <span style=\"color: #00af00; text-decoration-color: #00af00\">32</span>)                │               <span style=\"color: #00af00; text-decoration-color: #00af00\">0</span> │ bob_conv1d_4[<span style=\"color: #00af00; text-decoration-color: #00af00\">0</span>][<span style=\"color: #00af00; text-decoration-color: #00af00\">0</span>]         │\n",
       "└───────────────────────────────┴───────────────────────────┴─────────────────┴────────────────────────────┘\n",
       "</pre>\n"
      ],
      "text/plain": [
       "┏━━━━━━━━━━━━━━━━━━━━━━━━━━━━━━━┳━━━━━━━━━━━━━━━━━━━━━━━━━━━┳━━━━━━━━━━━━━━━━━┳━━━━━━━━━━━━━━━━━━━━━━━━━━━━┓\n",
       "┃\u001b[1m \u001b[0m\u001b[1mLayer (type)                 \u001b[0m\u001b[1m \u001b[0m┃\u001b[1m \u001b[0m\u001b[1mOutput Shape             \u001b[0m\u001b[1m \u001b[0m┃\u001b[1m \u001b[0m\u001b[1m        Param #\u001b[0m\u001b[1m \u001b[0m┃\u001b[1m \u001b[0m\u001b[1mConnected to              \u001b[0m\u001b[1m \u001b[0m┃\n",
       "┡━━━━━━━━━━━━━━━━━━━━━━━━━━━━━━━╇━━━━━━━━━━━━━━━━━━━━━━━━━━━╇━━━━━━━━━━━━━━━━━╇━━━━━━━━━━━━━━━━━━━━━━━━━━━━┩\n",
       "│ ciphertext (\u001b[38;5;33mInputLayer\u001b[0m)       │ (\u001b[38;5;45mNone\u001b[0m, \u001b[38;5;34m32\u001b[0m)                │               \u001b[38;5;34m0\u001b[0m │ -                          │\n",
       "├───────────────────────────────┼───────────────────────────┼─────────────────┼────────────────────────────┤\n",
       "│ private_key (\u001b[38;5;33mInputLayer\u001b[0m)      │ (\u001b[38;5;45mNone\u001b[0m, \u001b[38;5;34m32\u001b[0m)                │               \u001b[38;5;34m0\u001b[0m │ -                          │\n",
       "├───────────────────────────────┼───────────────────────────┼─────────────────┼────────────────────────────┤\n",
       "│ bob_concatenate (\u001b[38;5;33mConcatenate\u001b[0m) │ (\u001b[38;5;45mNone\u001b[0m, \u001b[38;5;34m64\u001b[0m)                │               \u001b[38;5;34m0\u001b[0m │ ciphertext[\u001b[38;5;34m0\u001b[0m][\u001b[38;5;34m0\u001b[0m],          │\n",
       "│                               │                           │                 │ private_key[\u001b[38;5;34m0\u001b[0m][\u001b[38;5;34m0\u001b[0m]          │\n",
       "├───────────────────────────────┼───────────────────────────┼─────────────────┼────────────────────────────┤\n",
       "│ bob_dense (\u001b[38;5;33mDense\u001b[0m)             │ (\u001b[38;5;45mNone\u001b[0m, \u001b[38;5;34m64\u001b[0m)                │           \u001b[38;5;34m4,160\u001b[0m │ bob_concatenate[\u001b[38;5;34m0\u001b[0m][\u001b[38;5;34m0\u001b[0m]      │\n",
       "├───────────────────────────────┼───────────────────────────┼─────────────────┼────────────────────────────┤\n",
       "│ bob_reshape (\u001b[38;5;33mReshape\u001b[0m)         │ (\u001b[38;5;45mNone\u001b[0m, \u001b[38;5;34m64\u001b[0m, \u001b[38;5;34m1\u001b[0m)             │               \u001b[38;5;34m0\u001b[0m │ bob_dense[\u001b[38;5;34m0\u001b[0m][\u001b[38;5;34m0\u001b[0m]            │\n",
       "├───────────────────────────────┼───────────────────────────┼─────────────────┼────────────────────────────┤\n",
       "│ bob_conv1d_1 (\u001b[38;5;33mConv1D\u001b[0m)         │ (\u001b[38;5;45mNone\u001b[0m, \u001b[38;5;34m64\u001b[0m, \u001b[38;5;34m2\u001b[0m)             │              \u001b[38;5;34m10\u001b[0m │ bob_reshape[\u001b[38;5;34m0\u001b[0m][\u001b[38;5;34m0\u001b[0m]          │\n",
       "├───────────────────────────────┼───────────────────────────┼─────────────────┼────────────────────────────┤\n",
       "│ bob_conv1d_2 (\u001b[38;5;33mConv1D\u001b[0m)         │ (\u001b[38;5;45mNone\u001b[0m, \u001b[38;5;34m32\u001b[0m, \u001b[38;5;34m16\u001b[0m)            │              \u001b[38;5;34m80\u001b[0m │ bob_conv1d_1[\u001b[38;5;34m0\u001b[0m][\u001b[38;5;34m0\u001b[0m]         │\n",
       "├───────────────────────────────┼───────────────────────────┼─────────────────┼────────────────────────────┤\n",
       "│ bob_conv1d_3 (\u001b[38;5;33mConv1D\u001b[0m)         │ (\u001b[38;5;45mNone\u001b[0m, \u001b[38;5;34m32\u001b[0m, \u001b[38;5;34m16\u001b[0m)            │             \u001b[38;5;34m272\u001b[0m │ bob_conv1d_2[\u001b[38;5;34m0\u001b[0m][\u001b[38;5;34m0\u001b[0m]         │\n",
       "├───────────────────────────────┼───────────────────────────┼─────────────────┼────────────────────────────┤\n",
       "│ bob_conv1d_4 (\u001b[38;5;33mConv1D\u001b[0m)         │ (\u001b[38;5;45mNone\u001b[0m, \u001b[38;5;34m32\u001b[0m, \u001b[38;5;34m1\u001b[0m)             │              \u001b[38;5;34m17\u001b[0m │ bob_conv1d_3[\u001b[38;5;34m0\u001b[0m][\u001b[38;5;34m0\u001b[0m]         │\n",
       "├───────────────────────────────┼───────────────────────────┼─────────────────┼────────────────────────────┤\n",
       "│ bob_flatten (\u001b[38;5;33mFlatten\u001b[0m)         │ (\u001b[38;5;45mNone\u001b[0m, \u001b[38;5;34m32\u001b[0m)                │               \u001b[38;5;34m0\u001b[0m │ bob_conv1d_4[\u001b[38;5;34m0\u001b[0m][\u001b[38;5;34m0\u001b[0m]         │\n",
       "└───────────────────────────────┴───────────────────────────┴─────────────────┴────────────────────────────┘\n"
      ]
     },
     "metadata": {},
     "output_type": "display_data"
    },
    {
     "data": {
      "text/html": [
       "<pre style=\"white-space:pre;overflow-x:auto;line-height:normal;font-family:Menlo,'DejaVu Sans Mono',consolas,'Courier New',monospace\"><span style=\"font-weight: bold\"> Total params: </span><span style=\"color: #00af00; text-decoration-color: #00af00\">4,539</span> (17.73 KB)\n",
       "</pre>\n"
      ],
      "text/plain": [
       "\u001b[1m Total params: \u001b[0m\u001b[38;5;34m4,539\u001b[0m (17.73 KB)\n"
      ]
     },
     "metadata": {},
     "output_type": "display_data"
    },
    {
     "data": {
      "text/html": [
       "<pre style=\"white-space:pre;overflow-x:auto;line-height:normal;font-family:Menlo,'DejaVu Sans Mono',consolas,'Courier New',monospace\"><span style=\"font-weight: bold\"> Trainable params: </span><span style=\"color: #00af00; text-decoration-color: #00af00\">4,539</span> (17.73 KB)\n",
       "</pre>\n"
      ],
      "text/plain": [
       "\u001b[1m Trainable params: \u001b[0m\u001b[38;5;34m4,539\u001b[0m (17.73 KB)\n"
      ]
     },
     "metadata": {},
     "output_type": "display_data"
    },
    {
     "data": {
      "text/html": [
       "<pre style=\"white-space:pre;overflow-x:auto;line-height:normal;font-family:Menlo,'DejaVu Sans Mono',consolas,'Courier New',monospace\"><span style=\"font-weight: bold\"> Non-trainable params: </span><span style=\"color: #00af00; text-decoration-color: #00af00\">0</span> (0.00 B)\n",
       "</pre>\n"
      ],
      "text/plain": [
       "\u001b[1m Non-trainable params: \u001b[0m\u001b[38;5;34m0\u001b[0m (0.00 B)\n"
      ]
     },
     "metadata": {},
     "output_type": "display_data"
    },
    {
     "name": "stdout",
     "output_type": "stream",
     "text": [
      "Bob Model: /nNone\n"
     ]
    },
    {
     "data": {
      "text/html": [
       "<pre style=\"white-space:pre;overflow-x:auto;line-height:normal;font-family:Menlo,'DejaVu Sans Mono',consolas,'Courier New',monospace\"><span style=\"font-weight: bold\">Model: \"eve\"</span>\n",
       "</pre>\n"
      ],
      "text/plain": [
       "\u001b[1mModel: \"eve\"\u001b[0m\n"
      ]
     },
     "metadata": {},
     "output_type": "display_data"
    },
    {
     "data": {
      "text/html": [
       "<pre style=\"white-space:pre;overflow-x:auto;line-height:normal;font-family:Menlo,'DejaVu Sans Mono',consolas,'Courier New',monospace\">┏━━━━━━━━━━━━━━━━━━━━━━━━━━━━━━━┳━━━━━━━━━━━━━━━━━━━━━━━━━━━┳━━━━━━━━━━━━━━━━━┳━━━━━━━━━━━━━━━━━━━━━━━━━━━━┓\n",
       "┃<span style=\"font-weight: bold\"> Layer (type)                  </span>┃<span style=\"font-weight: bold\"> Output Shape              </span>┃<span style=\"font-weight: bold\">         Param # </span>┃<span style=\"font-weight: bold\"> Connected to               </span>┃\n",
       "┡━━━━━━━━━━━━━━━━━━━━━━━━━━━━━━━╇━━━━━━━━━━━━━━━━━━━━━━━━━━━╇━━━━━━━━━━━━━━━━━╇━━━━━━━━━━━━━━━━━━━━━━━━━━━━┩\n",
       "│ ciphertext (<span style=\"color: #0087ff; text-decoration-color: #0087ff\">InputLayer</span>)       │ (<span style=\"color: #00d7ff; text-decoration-color: #00d7ff\">None</span>, <span style=\"color: #00af00; text-decoration-color: #00af00\">32</span>)                │               <span style=\"color: #00af00; text-decoration-color: #00af00\">0</span> │ -                          │\n",
       "├───────────────────────────────┼───────────────────────────┼─────────────────┼────────────────────────────┤\n",
       "│ public_key (<span style=\"color: #0087ff; text-decoration-color: #0087ff\">InputLayer</span>)       │ (<span style=\"color: #00d7ff; text-decoration-color: #00d7ff\">None</span>, <span style=\"color: #00af00; text-decoration-color: #00af00\">32</span>)                │               <span style=\"color: #00af00; text-decoration-color: #00af00\">0</span> │ -                          │\n",
       "├───────────────────────────────┼───────────────────────────┼─────────────────┼────────────────────────────┤\n",
       "│ eve_concatenate (<span style=\"color: #0087ff; text-decoration-color: #0087ff\">Concatenate</span>) │ (<span style=\"color: #00d7ff; text-decoration-color: #00d7ff\">None</span>, <span style=\"color: #00af00; text-decoration-color: #00af00\">64</span>)                │               <span style=\"color: #00af00; text-decoration-color: #00af00\">0</span> │ ciphertext[<span style=\"color: #00af00; text-decoration-color: #00af00\">0</span>][<span style=\"color: #00af00; text-decoration-color: #00af00\">0</span>],          │\n",
       "│                               │                           │                 │ public_key[<span style=\"color: #00af00; text-decoration-color: #00af00\">0</span>][<span style=\"color: #00af00; text-decoration-color: #00af00\">0</span>]           │\n",
       "├───────────────────────────────┼───────────────────────────┼─────────────────┼────────────────────────────┤\n",
       "│ eve_dense (<span style=\"color: #0087ff; text-decoration-color: #0087ff\">Dense</span>)             │ (<span style=\"color: #00d7ff; text-decoration-color: #00d7ff\">None</span>, <span style=\"color: #00af00; text-decoration-color: #00af00\">64</span>)                │           <span style=\"color: #00af00; text-decoration-color: #00af00\">4,160</span> │ eve_concatenate[<span style=\"color: #00af00; text-decoration-color: #00af00\">0</span>][<span style=\"color: #00af00; text-decoration-color: #00af00\">0</span>]      │\n",
       "├───────────────────────────────┼───────────────────────────┼─────────────────┼────────────────────────────┤\n",
       "│ eve_reshape (<span style=\"color: #0087ff; text-decoration-color: #0087ff\">Reshape</span>)         │ (<span style=\"color: #00d7ff; text-decoration-color: #00d7ff\">None</span>, <span style=\"color: #00af00; text-decoration-color: #00af00\">64</span>, <span style=\"color: #00af00; text-decoration-color: #00af00\">1</span>)             │               <span style=\"color: #00af00; text-decoration-color: #00af00\">0</span> │ eve_dense[<span style=\"color: #00af00; text-decoration-color: #00af00\">0</span>][<span style=\"color: #00af00; text-decoration-color: #00af00\">0</span>]            │\n",
       "├───────────────────────────────┼───────────────────────────┼─────────────────┼────────────────────────────┤\n",
       "│ eve_conv1d_1 (<span style=\"color: #0087ff; text-decoration-color: #0087ff\">Conv1D</span>)         │ (<span style=\"color: #00d7ff; text-decoration-color: #00d7ff\">None</span>, <span style=\"color: #00af00; text-decoration-color: #00af00\">64</span>, <span style=\"color: #00af00; text-decoration-color: #00af00\">2</span>)             │              <span style=\"color: #00af00; text-decoration-color: #00af00\">10</span> │ eve_reshape[<span style=\"color: #00af00; text-decoration-color: #00af00\">0</span>][<span style=\"color: #00af00; text-decoration-color: #00af00\">0</span>]          │\n",
       "├───────────────────────────────┼───────────────────────────┼─────────────────┼────────────────────────────┤\n",
       "│ eve_conv1d_2 (<span style=\"color: #0087ff; text-decoration-color: #0087ff\">Conv1D</span>)         │ (<span style=\"color: #00d7ff; text-decoration-color: #00d7ff\">None</span>, <span style=\"color: #00af00; text-decoration-color: #00af00\">32</span>, <span style=\"color: #00af00; text-decoration-color: #00af00\">16</span>)            │              <span style=\"color: #00af00; text-decoration-color: #00af00\">80</span> │ eve_conv1d_1[<span style=\"color: #00af00; text-decoration-color: #00af00\">0</span>][<span style=\"color: #00af00; text-decoration-color: #00af00\">0</span>]         │\n",
       "├───────────────────────────────┼───────────────────────────┼─────────────────┼────────────────────────────┤\n",
       "│ eve_conv1d_3 (<span style=\"color: #0087ff; text-decoration-color: #0087ff\">Conv1D</span>)         │ (<span style=\"color: #00d7ff; text-decoration-color: #00d7ff\">None</span>, <span style=\"color: #00af00; text-decoration-color: #00af00\">32</span>, <span style=\"color: #00af00; text-decoration-color: #00af00\">16</span>)            │             <span style=\"color: #00af00; text-decoration-color: #00af00\">272</span> │ eve_conv1d_2[<span style=\"color: #00af00; text-decoration-color: #00af00\">0</span>][<span style=\"color: #00af00; text-decoration-color: #00af00\">0</span>]         │\n",
       "├───────────────────────────────┼───────────────────────────┼─────────────────┼────────────────────────────┤\n",
       "│ eve_conv1d_4 (<span style=\"color: #0087ff; text-decoration-color: #0087ff\">Conv1D</span>)         │ (<span style=\"color: #00d7ff; text-decoration-color: #00d7ff\">None</span>, <span style=\"color: #00af00; text-decoration-color: #00af00\">32</span>, <span style=\"color: #00af00; text-decoration-color: #00af00\">1</span>)             │              <span style=\"color: #00af00; text-decoration-color: #00af00\">17</span> │ eve_conv1d_3[<span style=\"color: #00af00; text-decoration-color: #00af00\">0</span>][<span style=\"color: #00af00; text-decoration-color: #00af00\">0</span>]         │\n",
       "├───────────────────────────────┼───────────────────────────┼─────────────────┼────────────────────────────┤\n",
       "│ eve_flatten (<span style=\"color: #0087ff; text-decoration-color: #0087ff\">Flatten</span>)         │ (<span style=\"color: #00d7ff; text-decoration-color: #00d7ff\">None</span>, <span style=\"color: #00af00; text-decoration-color: #00af00\">32</span>)                │               <span style=\"color: #00af00; text-decoration-color: #00af00\">0</span> │ eve_conv1d_4[<span style=\"color: #00af00; text-decoration-color: #00af00\">0</span>][<span style=\"color: #00af00; text-decoration-color: #00af00\">0</span>]         │\n",
       "└───────────────────────────────┴───────────────────────────┴─────────────────┴────────────────────────────┘\n",
       "</pre>\n"
      ],
      "text/plain": [
       "┏━━━━━━━━━━━━━━━━━━━━━━━━━━━━━━━┳━━━━━━━━━━━━━━━━━━━━━━━━━━━┳━━━━━━━━━━━━━━━━━┳━━━━━━━━━━━━━━━━━━━━━━━━━━━━┓\n",
       "┃\u001b[1m \u001b[0m\u001b[1mLayer (type)                 \u001b[0m\u001b[1m \u001b[0m┃\u001b[1m \u001b[0m\u001b[1mOutput Shape             \u001b[0m\u001b[1m \u001b[0m┃\u001b[1m \u001b[0m\u001b[1m        Param #\u001b[0m\u001b[1m \u001b[0m┃\u001b[1m \u001b[0m\u001b[1mConnected to              \u001b[0m\u001b[1m \u001b[0m┃\n",
       "┡━━━━━━━━━━━━━━━━━━━━━━━━━━━━━━━╇━━━━━━━━━━━━━━━━━━━━━━━━━━━╇━━━━━━━━━━━━━━━━━╇━━━━━━━━━━━━━━━━━━━━━━━━━━━━┩\n",
       "│ ciphertext (\u001b[38;5;33mInputLayer\u001b[0m)       │ (\u001b[38;5;45mNone\u001b[0m, \u001b[38;5;34m32\u001b[0m)                │               \u001b[38;5;34m0\u001b[0m │ -                          │\n",
       "├───────────────────────────────┼───────────────────────────┼─────────────────┼────────────────────────────┤\n",
       "│ public_key (\u001b[38;5;33mInputLayer\u001b[0m)       │ (\u001b[38;5;45mNone\u001b[0m, \u001b[38;5;34m32\u001b[0m)                │               \u001b[38;5;34m0\u001b[0m │ -                          │\n",
       "├───────────────────────────────┼───────────────────────────┼─────────────────┼────────────────────────────┤\n",
       "│ eve_concatenate (\u001b[38;5;33mConcatenate\u001b[0m) │ (\u001b[38;5;45mNone\u001b[0m, \u001b[38;5;34m64\u001b[0m)                │               \u001b[38;5;34m0\u001b[0m │ ciphertext[\u001b[38;5;34m0\u001b[0m][\u001b[38;5;34m0\u001b[0m],          │\n",
       "│                               │                           │                 │ public_key[\u001b[38;5;34m0\u001b[0m][\u001b[38;5;34m0\u001b[0m]           │\n",
       "├───────────────────────────────┼───────────────────────────┼─────────────────┼────────────────────────────┤\n",
       "│ eve_dense (\u001b[38;5;33mDense\u001b[0m)             │ (\u001b[38;5;45mNone\u001b[0m, \u001b[38;5;34m64\u001b[0m)                │           \u001b[38;5;34m4,160\u001b[0m │ eve_concatenate[\u001b[38;5;34m0\u001b[0m][\u001b[38;5;34m0\u001b[0m]      │\n",
       "├───────────────────────────────┼───────────────────────────┼─────────────────┼────────────────────────────┤\n",
       "│ eve_reshape (\u001b[38;5;33mReshape\u001b[0m)         │ (\u001b[38;5;45mNone\u001b[0m, \u001b[38;5;34m64\u001b[0m, \u001b[38;5;34m1\u001b[0m)             │               \u001b[38;5;34m0\u001b[0m │ eve_dense[\u001b[38;5;34m0\u001b[0m][\u001b[38;5;34m0\u001b[0m]            │\n",
       "├───────────────────────────────┼───────────────────────────┼─────────────────┼────────────────────────────┤\n",
       "│ eve_conv1d_1 (\u001b[38;5;33mConv1D\u001b[0m)         │ (\u001b[38;5;45mNone\u001b[0m, \u001b[38;5;34m64\u001b[0m, \u001b[38;5;34m2\u001b[0m)             │              \u001b[38;5;34m10\u001b[0m │ eve_reshape[\u001b[38;5;34m0\u001b[0m][\u001b[38;5;34m0\u001b[0m]          │\n",
       "├───────────────────────────────┼───────────────────────────┼─────────────────┼────────────────────────────┤\n",
       "│ eve_conv1d_2 (\u001b[38;5;33mConv1D\u001b[0m)         │ (\u001b[38;5;45mNone\u001b[0m, \u001b[38;5;34m32\u001b[0m, \u001b[38;5;34m16\u001b[0m)            │              \u001b[38;5;34m80\u001b[0m │ eve_conv1d_1[\u001b[38;5;34m0\u001b[0m][\u001b[38;5;34m0\u001b[0m]         │\n",
       "├───────────────────────────────┼───────────────────────────┼─────────────────┼────────────────────────────┤\n",
       "│ eve_conv1d_3 (\u001b[38;5;33mConv1D\u001b[0m)         │ (\u001b[38;5;45mNone\u001b[0m, \u001b[38;5;34m32\u001b[0m, \u001b[38;5;34m16\u001b[0m)            │             \u001b[38;5;34m272\u001b[0m │ eve_conv1d_2[\u001b[38;5;34m0\u001b[0m][\u001b[38;5;34m0\u001b[0m]         │\n",
       "├───────────────────────────────┼───────────────────────────┼─────────────────┼────────────────────────────┤\n",
       "│ eve_conv1d_4 (\u001b[38;5;33mConv1D\u001b[0m)         │ (\u001b[38;5;45mNone\u001b[0m, \u001b[38;5;34m32\u001b[0m, \u001b[38;5;34m1\u001b[0m)             │              \u001b[38;5;34m17\u001b[0m │ eve_conv1d_3[\u001b[38;5;34m0\u001b[0m][\u001b[38;5;34m0\u001b[0m]         │\n",
       "├───────────────────────────────┼───────────────────────────┼─────────────────┼────────────────────────────┤\n",
       "│ eve_flatten (\u001b[38;5;33mFlatten\u001b[0m)         │ (\u001b[38;5;45mNone\u001b[0m, \u001b[38;5;34m32\u001b[0m)                │               \u001b[38;5;34m0\u001b[0m │ eve_conv1d_4[\u001b[38;5;34m0\u001b[0m][\u001b[38;5;34m0\u001b[0m]         │\n",
       "└───────────────────────────────┴───────────────────────────┴─────────────────┴────────────────────────────┘\n"
      ]
     },
     "metadata": {},
     "output_type": "display_data"
    },
    {
     "data": {
      "text/html": [
       "<pre style=\"white-space:pre;overflow-x:auto;line-height:normal;font-family:Menlo,'DejaVu Sans Mono',consolas,'Courier New',monospace\"><span style=\"font-weight: bold\"> Total params: </span><span style=\"color: #00af00; text-decoration-color: #00af00\">4,539</span> (17.73 KB)\n",
       "</pre>\n"
      ],
      "text/plain": [
       "\u001b[1m Total params: \u001b[0m\u001b[38;5;34m4,539\u001b[0m (17.73 KB)\n"
      ]
     },
     "metadata": {},
     "output_type": "display_data"
    },
    {
     "data": {
      "text/html": [
       "<pre style=\"white-space:pre;overflow-x:auto;line-height:normal;font-family:Menlo,'DejaVu Sans Mono',consolas,'Courier New',monospace\"><span style=\"font-weight: bold\"> Trainable params: </span><span style=\"color: #00af00; text-decoration-color: #00af00\">4,539</span> (17.73 KB)\n",
       "</pre>\n"
      ],
      "text/plain": [
       "\u001b[1m Trainable params: \u001b[0m\u001b[38;5;34m4,539\u001b[0m (17.73 KB)\n"
      ]
     },
     "metadata": {},
     "output_type": "display_data"
    },
    {
     "data": {
      "text/html": [
       "<pre style=\"white-space:pre;overflow-x:auto;line-height:normal;font-family:Menlo,'DejaVu Sans Mono',consolas,'Courier New',monospace\"><span style=\"font-weight: bold\"> Non-trainable params: </span><span style=\"color: #00af00; text-decoration-color: #00af00\">0</span> (0.00 B)\n",
       "</pre>\n"
      ],
      "text/plain": [
       "\u001b[1m Non-trainable params: \u001b[0m\u001b[38;5;34m0\u001b[0m (0.00 B)\n"
      ]
     },
     "metadata": {},
     "output_type": "display_data"
    },
    {
     "name": "stdout",
     "output_type": "stream",
     "text": [
      "Eve Model: /nNone\n"
     ]
    }
   ],
   "source": [
    "config = Config()\n",
    "key_gen = build_key_gen(Config.K_LEN)\n",
    "alice = build_alice(Config.P_LEN, Config.K_LEN)\n",
    "bob = build_bob(Config.C_LEN, Config.K_LEN)\n",
    "eve = build_eve(Config.C_LEN, Config.K_LEN)\n",
    "print(f\"Key Generation: /n{key_gen.summary()}\")\n",
    "print(f\"Alice Model: /n{alice.summary()}\")\n",
    "print(f\"Bob Model: /n{bob.summary()}\")\n",
    "print(f\"Eve Model: /n{eve.summary()}\")\n"
   ]
  },
  {
   "cell_type": "code",
   "execution_count": 8,
   "metadata": {
    "id": "7q9LuPIjfoKS"
   },
   "outputs": [],
   "source": [
    "class AdversarialEncryptionModel(models.Model):\n",
    "    def __init__(self, key_gen, alice, bob, eve, p_len, **kwargs):\n",
    "        super(AdversarialEncryptionModel, self).__init__(**kwargs)\n",
    "        self.key_gen = key_gen\n",
    "        self.alice = alice\n",
    "        self.bob = bob\n",
    "        self.eve = eve\n",
    "        self.p_len = p_len\n",
    "        self.l1_distance = L1DistanceLayer()\n",
    "        # Two optimizers: one for Alice-Bob, one for Eve\n",
    "        self.ab_optimizer = optimizers.Adam(learning_rate=0.0005)\n",
    "        self.eve_optimizer = optimizers.Adam(learning_rate=0.0001)\n",
    "\n",
    "    def call(self, inputs):\n",
    "        pvk_input, p_input = inputs\n",
    "        key_gen_output = self.key_gen(pvk_input) # to create public Key\n",
    "        alice_output = self.alice([p_input, key_gen_output]) # assign the public key and create The Cipher Text\n",
    "        bob_output = self.bob([alice_output, pvk_input]) # take cipher text (encrypt_output) and decrypt trough private key\n",
    "        eve_output = self.eve([alice_output, key_gen_output]) # take cipher text and decrypt trough public key\n",
    "        return bob_output, eve_output\n",
    "\n",
    "\n",
    "# We need to build function that help to update weights through Adversial_Learning\n",
    "    def train_step(self, data):        \n",
    "        pvk_input, p_input = data[0] # do unbacking to get the pvk_input and p_input that are relates in matrix form data. They are numpy Matrix\n",
    "        pvk_input = tf.convert_to_tensor(pvk_input, dtype=tf.float32) # Convert to tensors matrix with type float32.\n",
    "        p_input = tf.convert_to_tensor(p_input, dtype=tf.float32)\n",
    "\n",
    "        # Step 1: Train Alice-Bob and Update Weights.\n",
    "        \"\"\" This is Forward Pass\"\"\"\n",
    "        with tf.GradientTape() as ab_tape: # using to save calculations through forward and backward pass.\n",
    "            key_gen_output = self.key_gen(pvk_input)\n",
    "            alice_output = self.alice([p_input, key_gen_output])\n",
    "            bob_output = self.bob([alice_output, pvk_input])\n",
    "            eve_output = self.eve([alice_output, key_gen_output])\n",
    "            # Calc the loss and penalty.\n",
    "            bob_loss = self.l1_distance(p_input, bob_output)\n",
    "            eve_loss = self.l1_distance(p_input, eve_output)\n",
    "            alice_bob_loss = bob_loss + ops.square((self.p_len/2) - eve_loss) / ((self.p_len/2) ** 2) \n",
    "\n",
    "        \"\"\" This is Backward Pass\"\"\"\n",
    "        ab_trainable_vars = self.key_gen.trainable_variables + self.alice.trainable_variables + self.bob.trainable_variables # we concatenate all trainable variables for Automatic Differentiation\n",
    "        ab_gradients = ab_tape.gradient(alice_bob_loss, ab_trainable_vars) # calc the gradients= variable\n",
    "        self.ab_optimizer.apply_gradients(zip(ab_gradients, ab_trainable_vars)) #apply learning_rate to get new weights\n",
    "\n",
    "        # Step 2: Train Eve (2 iterations)\n",
    "        for _ in range(2):\n",
    "            with tf.GradientTape() as eve_tape:\n",
    "                key_gen_output = self.key_gen(pvk_input)\n",
    "                alice_output = self.alice([p_input, key_gen_output])\n",
    "                eve_output = self.eve([alice_output, key_gen_output])\n",
    "                \n",
    "                eve_loss = self.l1_distance(p_input, eve_output)\n",
    "\n",
    "            eve_gradients = eve_tape.gradient(eve_loss, self.eve.trainable_variables)\n",
    "            self.eve_optimizer.apply_gradients(zip(eve_gradients, self.eve.trainable_variables)) # zip() => concatenate weight in every variable that are relates.\n",
    "\n",
    "        return {\n",
    "            \"alice_bob_loss\": alice_bob_loss,\n",
    "            \"bob_error\": bob_loss,\n",
    "            \"eve_error\": eve_loss\n",
    "        }"
   ]
  },
  {
   "cell_type": "code",
   "execution_count": 9,
   "metadata": {
    "id": "jg6mDF35foKS"
   },
   "outputs": [],
   "source": [
    "class AsymmetricEncryption:\n",
    "    def __init__(self, config: Config):\n",
    "        self.config = config\n",
    "        self.key_gen = build_key_gen(config.K_LEN)\n",
    "        self.alice = build_alice(config.P_LEN, config.K_LEN)\n",
    "        self.bob = build_bob(config.C_LEN, config.K_LEN)\n",
    "        self.eve = build_eve(config.C_LEN, config.K_LEN)\n",
    "        self.model = None  # Single model\n",
    "        self.bob_train_errors = []\n",
    "        self.eve_train_errors = []\n",
    "        self.alice_bob_losses = []\n",
    "        self.bob_eval_errors = []\n",
    "        self.eve_eval_errors = []\n",
    "\n",
    "    def create_batch(self) -> tuple[np.ndarray, np.ndarray]:\n",
    "        \"\"\"Generates a batch of plaintext and private keys.\"\"\"\n",
    "        p_batch = np.random.choice([-1, 1], size=(self.config.BATCH_SIZE, self.config.P_LEN)) # (256 sample, 32 bit) numpy matrix. every sample 32 bit\n",
    "        pvk_batch = np.random.choice([-1, 1], size=(self.config.BATCH_SIZE, self.config.K_LEN))\n",
    "        return p_batch, pvk_batch\n",
    "\n",
    "    def build_training_models(self):\n",
    "        self.model = AdversarialEncryptionModel(\n",
    "            key_gen=self.key_gen,\n",
    "            alice=self.alice,\n",
    "            bob=self.bob,\n",
    "            eve=self.eve,\n",
    "            p_len=self.config.P_LEN,\n",
    "            name=\"adversarial_encryption\"\n",
    "        )\n",
    "\n",
    "    def train(self):\n",
    "        self.build_training_models()\n",
    "        epoch = 0\n",
    "        above_threshold = True\n",
    "        start_time = time.time()\n",
    "\n",
    "        with tqdm(total=self.config.EPOCHS * self.config.BATCHES, desc=\"Training\", unit=\"batch\") as pbar:\n",
    "            while epoch < self.config.EPOCHS and above_threshold:\n",
    "                for batch in range(self.config.BATCHES):\n",
    "                    p_batch, pvk_batch = self.create_batch()\n",
    "                    metrics = self.model.train_step(([pvk_batch, p_batch], None))\n",
    "                    alice_bob_loss = float(metrics[\"alice_bob_loss\"])\n",
    "                    bob_error = float(metrics[\"bob_error\"])\n",
    "                    eve_error = float(metrics[\"eve_error\"])\n",
    "                    self.alice_bob_losses.append(alice_bob_loss)\n",
    "                    self.bob_train_errors.append(bob_error)\n",
    "                    self.eve_train_errors.append(eve_error)\n",
    "\n",
    "                    pbar.set_postfix({\n",
    "                        \"alice_bob_loss\": alice_bob_loss,\n",
    "                        \"bob_error\": bob_error,\n",
    "                        \"eve_error\": eve_error\n",
    "                    })\n",
    "                    pbar.update()\n",
    "\n",
    "                    if alice_bob_loss < self.config.LOSS_THRESHOLD:\n",
    "                        print(\"Minimum loss threshold reached, exiting early\")\n",
    "                        above_threshold = False\n",
    "                        break\n",
    "\n",
    "                epoch += 1\n",
    "\n",
    "        total_time = time.strftime(\"%M:%S\", time.gmtime(time.time() - start_time))\n",
    "        print(f\"Training finished ({total_time})\")\n",
    "\n",
    "    def evaluate(self):\n",
    "      \"\"\"Evaluates the models on new data.\"\"\"\n",
    "      start_time = time.time()\n",
    "      with tqdm(total=self.config.BATCHES, desc=\"Evaluation\", unit=\"batch\") as pbar:\n",
    "            for batch in range(self.config.BATCHES):\n",
    "                # Evaluate Alice-Bob\n",
    "                p_batch, pvk_batch = self.create_batch()\n",
    "                # Convert inputs to tensors\n",
    "                p_batch = tf.convert_to_tensor(p_batch, dtype=tf.float32)\n",
    "                pvk_batch = tf.convert_to_tensor(pvk_batch, dtype=tf.float32)\n",
    "\n",
    "                key_gen_output = self.key_gen.predict(pvk_batch, verbose=0) # verbose to prevent print predict\n",
    "                alice_output = self.alice.predict([p_batch, key_gen_output], verbose=0)\n",
    "                bob_output = self.bob.predict([alice_output, pvk_batch], verbose=0)\n",
    "                eve_output = self.eve.predict([alice_output, key_gen_output], verbose=0)\n",
    "\n",
    "                # Convert outputs to tensors for L1DistanceLayer\n",
    "                p_batch = tf.convert_to_tensor(p_batch, dtype=tf.float32)\n",
    "                bob_output = tf.convert_to_tensor(bob_output, dtype=tf.float32)\n",
    "                eve_output = tf.convert_to_tensor(eve_output, dtype=tf.float32)\n",
    "\n",
    "                # Compute errors\n",
    "                l1_distance = L1DistanceLayer()\n",
    "                bob_error = float(l1_distance(p_batch, bob_output))\n",
    "                eve_error = float(l1_distance(p_batch, eve_output))\n",
    "                alice_bob_loss = bob_error + (self.config.P_LEN / 2 - eve_error) ** 2 / ((self.config.P_LEN / 2) ** 2)\n",
    "\n",
    "                self.bob_eval_errors.append(bob_error)\n",
    "                self.eve_eval_errors.append(eve_error)\n",
    "\n",
    "                pbar.set_postfix({\n",
    "                    \"alice_bob_loss\": alice_bob_loss,\n",
    "                    \"bob_error\": bob_error,\n",
    "                    \"eve_error\": eve_error\n",
    "                })\n",
    "                pbar.update()\n",
    "\n",
    "      total_time = time.strftime(\"%M:%S\", time.gmtime(time.time() - start_time))\n",
    "      print(f\"Evaluation finished ({total_time})\")\n",
    "\n",
    "    def plot_errors(self, phase: str):\n",
    "        \"\"\"Plots the errors for the specified phase (train or eval).\"\"\"\n",
    "        plt.figure(figsize=(8, 6))\n",
    "        if phase == \"train\":\n",
    "            plt.plot(self.bob_train_errors, label=\"Bob\")\n",
    "            plt.plot(self.eve_train_errors, label=\"Eve\")\n",
    "            plt.title(\"Asymmetric model training errors\")\n",
    "        else:\n",
    "            plt.plot(self.bob_eval_errors, label=\"Bob\")\n",
    "            plt.plot(self.eve_eval_errors, label=\"Eve\")\n",
    "            plt.title(\"Asymmetric model evaluation errors\")\n",
    "        plt.xlabel(\"Batches\")\n",
    "        plt.ylabel(f\"Bits wrong (of {self.config.P_LEN})\")\n",
    "        plt.yticks(np.arange(0, (self.config.P_LEN / 2) + 0.5, 0.5))\n",
    "        plt.legend()\n",
    "        plt.show()"
   ]
  },
  {
   "cell_type": "code",
   "execution_count": 10,
   "metadata": {
    "id": "nHNIRxWIfoKT"
   },
   "outputs": [],
   "source": [
    "# Initialize the system\n",
    "config = Config()\n",
    "encryption_system = AsymmetricEncryption(config)"
   ]
  },
  {
   "cell_type": "code",
   "execution_count": 11,
   "metadata": {
    "colab": {
     "base_uri": "https://localhost:8080/"
    },
    "id": "h_T2tWDMfoKT",
    "outputId": "1fcba085-39c4-4b88-f654-6b23cb914735"
   },
   "outputs": [
    {
     "name": "stderr",
     "output_type": "stream",
     "text": [
      "Training: 100%|█████████| 5120/5120 [38:43<00:00,  2.20batch/s, alice_bob_loss=0.666, bob_error=0.0307, eve_error=3.25]"
     ]
    },
    {
     "name": "stdout",
     "output_type": "stream",
     "text": [
      "Training finished (38:43)\n"
     ]
    },
    {
     "name": "stderr",
     "output_type": "stream",
     "text": [
      "\n"
     ]
    }
   ],
   "source": [
    "# Train Models\n",
    "encryption_system.train()"
   ]
  },
  {
   "cell_type": "code",
   "execution_count": 12,
   "metadata": {
    "colab": {
     "base_uri": "https://localhost:8080/",
     "height": 564
    },
    "id": "MHXBp518foKU",
    "outputId": "3e429d96-96a3-46ae-cd4b-291153e47ddb"
   },
   "outputs": [
    {
     "data": {
      "image/png": "[encoded data removed]",
      "text/plain": [
       "<Figure size 800x600 with 1 Axes>"
      ]
     },
     "metadata": {},
     "output_type": "display_data"
    }
   ],
   "source": [
    " encryption_system.plot_errors(\"train\")"
   ]
  },
  {
   "cell_type": "code",
   "execution_count": 19,
   "metadata": {
    "id": "iN_qROYhfoKU"
   },
   "outputs": [
    {
     "name": "stderr",
     "output_type": "stream",
     "text": [
      "Evaluation: 100%|█████████| 256/256 [01:47<00:00,  2.39batch/s, alice_bob_loss=0.667, bob_error=0.0324, eve_error=3.25]"
     ]
    },
    {
     "name": "stdout",
     "output_type": "stream",
     "text": [
      "Evaluation finished (01:47)\n"
     ]
    },
    {
     "name": "stderr",
     "output_type": "stream",
     "text": [
      "\n"
     ]
    }
   ],
   "source": [
    "encryption_system.evaluate()\n"
   ]
  },
  {
   "cell_type": "code",
   "execution_count": 20,
   "metadata": {
    "id": "usziRJMyfoKU"
   },
   "outputs": [
    {
     "data": {
      "image/png": "[encoded data removed]",
      "text/plain": [
       "<Figure size 800x600 with 1 Axes>"
      ]
     },
     "metadata": {},
     "output_type": "display_data"
    }
   ],
   "source": [
    "encryption_system.plot_errors(\"eval\")\n"
   ]
  },
  {
   "cell_type": "markdown",
   "metadata": {
    "id": "UrLHDfhkfoKU"
   },
   "source": [
    "# Save Models"
   ]
  },
  {
   "cell_type": "code",
   "execution_count": 1,
   "metadata": {},
   "outputs": [],
   "source": [
    "# Save models\n",
    "# encryption_system.key_gen.save('key_gen.keras')\n",
    "# encryption_system.alice.save('alice.keras')\n",
    "# encryption_system.bob.save('bob.keras')\n",
    "# encryption_system.eve.save('eve.keras')"
   ]
  },
  {
   "cell_type": "markdown",
   "metadata": {
    "id": "d5eliKKWfoKV"
   },
   "source": [
    "# Text Processing Functions"
   ]
  },
  {
   "cell_type": "code",
   "execution_count": 13,
   "metadata": {
    "id": "Y8_JbsFHfoKV"
   },
   "outputs": [],
   "source": [
    "def text_to_tensor(text: str, p_len: int) -> tuple[np.ndarray, int]:\n",
    "    \"\"\"Converts text to a binary tensor suitable for the model.\"\"\"\n",
    "    def char_to_binary(ch: str) -> list[int]:\n",
    "        return [int(bit) for bit in format(ord(ch), \"08b\")] # we convert the chr to unicode with format 8bits and in final we add unicode after convert in list[].\n",
    "\n",
    "    binary = np.array([char_to_binary(ch) for ch in text]).flatten() # apply the func in all text and put in 1D array.\n",
    "    pad = (p_len - len(binary) % p_len) % p_len # sure that we need to add padding or not.\n",
    "    tensor = np.concatenate([(binary * 2) - 1, np.zeros(pad)]) # convert the binary to [1,-1] and add padding if exisit.\n",
    "    return tensor, pad"
   ]
  },
  {
   "cell_type": "code",
   "execution_count": 14,
   "metadata": {
    "id": "oaVJk79mfoKW"
   },
   "outputs": [],
   "source": [
    "def tensor_to_text(tensor: np.ndarray, pad: int) -> str:\n",
    "    \"\"\"Converts a binary tensor back to text.\"\"\"\n",
    "    def binary_to_char(binary: np.ndarray) -> str:\n",
    "        return chr(int(\"\".join([str(bit) for bit in binary]), 2)) # Converts an 8-bit binary array to a Unicode character, (2) Converts binary string to decimal\n",
    "\n",
    "    binary = np.round((tensor + 1) / 2.0).astype(int).flatten() # Shifts range from [-1,1] to [0,2], / 2.0: Normalizes to [0,1] range, np.round(): Rounds to nearest integer (0 or 1)\n",
    "\n",
    "    binarys = [binary[i: i + 8] for i in range(0, len(binary) - pad, 8)] #Creates 8-bit chunks starting at positions 0, 8, 16,... || len(binary) - pad: Excludes padding bits from processing\n",
    "    return \"\".join(map(binary_to_char, binarys)) # Applies binary_to_char to each 8-bit chunk and Combines resulting characters into final string\n"
   ]
  },
  {
   "cell_type": "code",
   "execution_count": 15,
   "metadata": {
    "id": "-kKKleoJfoKW"
   },
   "outputs": [],
   "source": [
    "def asymmetric_encryption(config: Config, plaintext: str) -> tuple[str, str, str]:\n",
    "    \"\"\"Performs asymmetric encryption and decryption on the given plaintext.\"\"\"\n",
    "    tensor, pad = text_to_tensor(plaintext, config.P_LEN) # Converts input text to binary representation & Adds padding if needed to ensure proper length\n",
    "    p_inputs = np.array(tensor).reshape(-1, config.P_LEN) #Reshapes tensor for model input, that means if the text higher than 32bit will be divided into multible rows\n",
    "    pvk_inputs = np.random.choice([-1, 1], size=(len(p_inputs), config.K_LEN)) #  Generates random private keys (values -1 or 1)\n",
    "\n",
    "    # Enceryption/Decryption operations.\n",
    "    key_gen_output = encryption_system.key_gen.predict(pvk_inputs, verbose=0)\n",
    "    alice_output = encryption_system.alice.predict([p_inputs, key_gen_output], verbose=0)\n",
    "    bob_output = encryption_system.bob.predict([alice_output, pvk_inputs], verbose=0)\n",
    "    eve_output = encryption_system.eve.predict([alice_output, key_gen_output], verbose=0)\n",
    "\n",
    "    # Convert tensors to Text.\n",
    "    ciphertext = tensor_to_text(alice_output, pad)\n",
    "    plaintext_bob = tensor_to_text(bob_output, pad)\n",
    "    plaintext_eve = tensor_to_text(eve_output, pad)\n",
    "\n",
    "    return ciphertext, plaintext_bob, plaintext_eve"
   ]
  },
  {
   "cell_type": "markdown",
   "metadata": {
    "id": "rzvc897RfoKW"
   },
   "source": [
    "# Main"
   ]
  },
  {
   "cell_type": "code",
   "execution_count": 18,
   "metadata": {
    "colab": {
     "base_uri": "https://localhost:8080/"
    },
    "id": "YiHh9bQZfoKW",
    "outputId": "5d70f13c-4838-40f4-d34f-4cc9392d9e7b"
   },
   "outputs": [
    {
     "name": "stdout",
     "output_type": "stream",
     "text": [
      "72\n",
      "Original: Age 22\n",
      "CipherText: \u0002\u00115:¾\n",
      "Bob: Age 22\n",
      "Eve: Acá 30\n",
      "\n",
      "Original: Ahmed Ibrahim Mohamed Gawesh\n",
      "CipherText: ¶b7\u0016\"\u0013ð#Ø_t.\n",
      "Sô\u000b",
      "Xu¢ã\u0017ç#qÖ\n",
      "Bob: Ahmed Ibrahim Mohamed Gawesh\n",
      "Eve: @hiç` Iàraìil Iïlaéç` cásaóè\n",
      "\n"
     ]
    }
   ],
   "source": [
    "import sys\n",
    "# Main Function\n",
    "def main():\n",
    "    \"\"\"Main function to run the asymmetric encryption system.\"\"\"\n",
    "    #Test the system with varied plaintexts\n",
    "    plaintext = [\n",
    "    \"Age 22\",\n",
    "    \"Ahmed Ibrahim Mohamed Gawesh\",\n",
    "    ]\n",
    "    # Test encryption/decryption\n",
    "    print(sys.getsizeof(plaintext))\n",
    "    for pt in plaintext:\n",
    "        ciphertext, plaintext_bob, plaintext_eve = asymmetric_encryption(config, pt)\n",
    "        print(f\"Original: {pt}\\nCipherText: {ciphertext}\\nBob: {plaintext_bob}\\nEve: {plaintext_eve}\\n\")\n",
    "    # ciphertext, plaintext_bob, plaintext_eve = asymmetric_encryption(encryption_system, plaintext)\n",
    "    # print(f\"Plaintext: {plaintext}\")\n",
    "    # print(f\"Ciphertext: {ciphertext}\")\n",
    "    # print(f\"Plaintext (Bob): {plaintext_bob}\")\n",
    "    # print(f\"Plaintext (Eve): {plaintext_eve}\")\n",
    "\n",
    "if __name__ == \"__main__\":\n",
    "    main()"
   ]
  },
  {
   "cell_type": "raw",
   "metadata": {
    "execution": {
     "execution_failed": "2025-04-12T21:09:26.511Z",
     "iopub.execute_input": "2025-04-12T21:08:14.114552Z",
     "iopub.status.busy": "2025-04-12T21:08:14.114006Z"
    },
    "id": "7YuJzuBefoKX"
   },
   "source": []
  }
 ],
 "metadata": {
  "accelerator": "GPU",
  "colab": {
   "gpuType": "T4",
   "provenance": []
  },
  "kaggle": {
   "accelerator": "nvidiaTeslaT4",
   "dataSources": [],
   "dockerImageVersionId": 31012,
   "isGpuEnabled": true,
   "isInternetEnabled": true,
   "language": "python",
   "sourceType": "notebook"
  },
  "kernelspec": {
   "display_name": "MyNewVenv",
   "language": "python",
   "name": "mynewvenv"
  },
  "language_info": {
   "codemirror_mode": {
    "name": "ipython",
    "version": 3
   },
   "file_extension": ".py",
   "mimetype": "text/x-python",
   "name": "python",
   "nbconvert_exporter": "python",
   "pygments_lexer": "ipython3",
   "version": "3.10.5"
  }
 },
 "nbformat": 4,
 "nbformat_minor": 4
}
